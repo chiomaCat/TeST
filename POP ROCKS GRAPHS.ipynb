{
  "metadata": {
    "kernelspec": {
      "name": "python",
      "display_name": "Python (Pyodide)",
      "language": "python"
    },
    "language_info": {
      "name": ""
    }
  },
  "nbformat_minor": 5,
  "nbformat": 4,
  "cells": [
    {
      "id": "d29568f1-3f95-4ef9-be6c-0ba02660fa4b",
      "cell_type": "code",
      "source": "%pip install seaborn",
      "metadata": {
        "trusted": true
      },
      "outputs": [],
      "execution_count": null
    },
    {
      "id": "7d6c99e9-cb36-48b4-b2d4-3d7972620b03",
      "cell_type": "markdown",
      "source": "import numpy as np\nimport pandas as pd\n%matplotlib inline\nimport matplotlib.pyplot as plt\nimport seaborn as sns",
      "metadata": {}
    },
    {
      "id": "9d0b59ad-0697-4f46-b791-9a380da0913d",
      "cell_type": "code",
      "source": "wattem_df= pd.read_csv('stats.csv')\nwattem_df.head()",
      "metadata": {
        "trusted": true
      },
      "outputs": [],
      "execution_count": null
    },
    {
      "id": "13dafe0b-e97a-4003-9286-9be2eeced58a",
      "cell_type": "code",
      "source": "",
      "metadata": {
        "trusted": true
      },
      "outputs": [],
      "execution_count": null
    }
  ]
}